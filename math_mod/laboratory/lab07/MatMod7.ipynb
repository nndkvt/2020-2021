{
 "cells": [
  {
   "cell_type": "code",
   "execution_count": 1,
   "id": "actual-edwards",
   "metadata": {},
   "outputs": [],
   "source": [
    "import numpy as np\n",
    "import scipy as sp\n",
    "import matplotlib.pyplot as plt\n",
    "import math\n",
    "\n",
    "from scipy.integrate import odeint"
   ]
  },
  {
   "cell_type": "code",
   "execution_count": 2,
   "id": "soviet-clerk",
   "metadata": {},
   "outputs": [],
   "source": [
    "x0 = 22\n",
    "N = 3310"
   ]
  },
  {
   "cell_type": "code",
   "execution_count": 3,
   "id": "genetic-field",
   "metadata": {},
   "outputs": [
    {
     "data": {
      "text/plain": [
       "array([0.000e+00, 1.000e-02, 2.000e-02, ..., 2.998e+01, 2.999e+01,\n",
       "       3.000e+01])"
      ]
     },
     "execution_count": 3,
     "metadata": {},
     "output_type": "execute_result"
    }
   ],
   "source": [
    "t0 = 0\n",
    "tmax = 30\n",
    "dt = .01\n",
    "\n",
    "t = np.arange(t0, tmax, dt)\n",
    "t = np.append(t, tmax)\n",
    "t"
   ]
  },
  {
   "cell_type": "markdown",
   "id": "frequent-testament",
   "metadata": {},
   "source": [
    "# Первый случай [платная реклама преобладает]"
   ]
  },
  {
   "cell_type": "code",
   "execution_count": 4,
   "id": "hearing-blackjack",
   "metadata": {},
   "outputs": [],
   "source": [
    "def alpha11(t):\n",
    "    return .211"
   ]
  },
  {
   "cell_type": "code",
   "execution_count": 5,
   "id": "equipped-progressive",
   "metadata": {},
   "outputs": [],
   "source": [
    "def alpha21(t):\n",
    "    return .000011"
   ]
  },
  {
   "cell_type": "code",
   "execution_count": 6,
   "id": "pending-regard",
   "metadata": {},
   "outputs": [],
   "source": [
    "def dndt1(n, t):\n",
    "    a1 = alpha11(t)\n",
    "    a2 = alpha21(t)\n",
    "    dndt = (a1 + a2*n)*(N - n)\n",
    "    return dndt"
   ]
  },
  {
   "cell_type": "code",
   "execution_count": 7,
   "id": "romantic-direction",
   "metadata": {},
   "outputs": [
    {
     "data": {
      "text/plain": [
       "array([[  22.        ],\n",
       "       [  28.93955898],\n",
       "       [  35.86696841],\n",
       "       ...,\n",
       "       [3307.68683227],\n",
       "       [3307.69254764],\n",
       "       [3307.69824889]])"
      ]
     },
     "execution_count": 7,
     "metadata": {},
     "output_type": "execute_result"
    }
   ],
   "source": [
    "n1 = odeint(dndt1, x0, t)\n",
    "n1"
   ]
  },
  {
   "cell_type": "code",
   "execution_count": 8,
   "id": "demographic-routine",
   "metadata": {},
   "outputs": [
    {
     "data": {
      "text/plain": [
       "<matplotlib.legend.Legend at 0x21159640>"
      ]
     },
     "execution_count": 8,
     "metadata": {},
     "output_type": "execute_result"
    },
    {
     "data": {
      "image/png": "[encoded data removed]",
      "text/plain": [
       "<Figure size 921.6x691.2 with 1 Axes>"
      ]
     },
     "metadata": {
      "needs_background": "light"
     },
     "output_type": "display_data"
    }
   ],
   "source": [
    "plt.figure(figsize=(12.8, 9.6))\n",
    "plt.grid(True)\n",
    "plt.title('Эффективность рекламы', fontsize=25)\n",
    "plt.xlabel(\"t\", fontsize=20)\n",
    "plt.ylabel(\"n\", fontsize=20)\n",
    "plt.plot(t, n1, 'r', label='N')\n",
    "plt.legend(loc='upper right', fontsize=15)"
   ]
  },
  {
   "cell_type": "markdown",
   "id": "coated-cookie",
   "metadata": {},
   "source": [
    "# Второй случай [сарафанное радио преобладает]"
   ]
  },
  {
   "cell_type": "code",
   "execution_count": 9,
   "id": "swiss-exclusion",
   "metadata": {},
   "outputs": [],
   "source": [
    "def alpha12(t):\n",
    "    return .0000311"
   ]
  },
  {
   "cell_type": "code",
   "execution_count": 10,
   "id": "quarterly-episode",
   "metadata": {},
   "outputs": [],
   "source": [
    "def alpha22(t):\n",
    "    return .21"
   ]
  },
  {
   "cell_type": "code",
   "execution_count": 11,
   "id": "positive-blanket",
   "metadata": {},
   "outputs": [],
   "source": [
    "def dndt2(n, t):\n",
    "    a1 = alpha12(t)\n",
    "    a2 = alpha22(t)\n",
    "    dndt = (a1 + a2*n)*(N - n)\n",
    "    return dndt"
   ]
  },
  {
   "cell_type": "code",
   "execution_count": 12,
   "id": "digital-disney",
   "metadata": {},
   "outputs": [
    {
     "data": {
      "text/plain": [
       "array([[  22.        ],\n",
       "       [2895.56321548],\n",
       "       [3309.54636079],\n",
       "       ...,\n",
       "       [3310.        ],\n",
       "       [3310.        ],\n",
       "       [3310.        ]])"
      ]
     },
     "execution_count": 12,
     "metadata": {},
     "output_type": "execute_result"
    }
   ],
   "source": [
    "n2 = odeint(dndt2, x0, t)\n",
    "n2"
   ]
  },
  {
   "cell_type": "code",
   "execution_count": 13,
   "id": "freelance-democrat",
   "metadata": {},
   "outputs": [
    {
     "data": {
      "text/plain": [
       "<matplotlib.legend.Legend at 0x228511f0>"
      ]
     },
     "execution_count": 13,
     "metadata": {},
     "output_type": "execute_result"
    },
    {
     "data": {
      "image/png": "[encoded data removed]",
      "text/plain": [
       "<Figure size 921.6x691.2 with 1 Axes>"
      ]
     },
     "metadata": {
      "needs_background": "light"
     },
     "output_type": "display_data"
    }
   ],
   "source": [
    "plt.figure(figsize=(12.8, 9.6))\n",
    "plt.grid(True)\n",
    "plt.title('Эффективность рекламы', fontsize=25)\n",
    "plt.xlabel(\"t\", fontsize=20)\n",
    "plt.ylabel(\"n\", fontsize=20)\n",
    "plt.plot(t, n2, 'r', label='N')\n",
    "plt.legend(loc='upper right', fontsize=15)"
   ]
  },
  {
   "cell_type": "markdown",
   "id": "senior-residence",
   "metadata": {},
   "source": [
    "# Третий случай"
   ]
  },
  {
   "cell_type": "code",
   "execution_count": 14,
   "id": "collect-coverage",
   "metadata": {},
   "outputs": [],
   "source": [
    "def alpha13(t):\n",
    "    return (.511 * math.sin(t))"
   ]
  },
  {
   "cell_type": "code",
   "execution_count": 15,
   "id": "opened-gothic",
   "metadata": {},
   "outputs": [],
   "source": [
    "def alpha23(t):\n",
    "    return (.311 * math.sin(t))"
   ]
  },
  {
   "cell_type": "code",
   "execution_count": 16,
   "id": "african-latin",
   "metadata": {},
   "outputs": [],
   "source": [
    "def dndt3(n, t):\n",
    "    a1 = alpha13(t)\n",
    "    a2 = alpha23(t)\n",
    "    dndt = (alpha13(t) + alpha23(t)*n)*(N - n)\n",
    "    return dndt"
   ]
  },
  {
   "cell_type": "code",
   "execution_count": 17,
   "id": "sapphire-johnson",
   "metadata": {},
   "outputs": [
    {
     "data": {
      "text/plain": [
       "array([[  22.        ],\n",
       "       [  23.24002297],\n",
       "       [  27.36041446],\n",
       "       ...,\n",
       "       [3309.99999999],\n",
       "       [3309.99999999],\n",
       "       [3309.99999999]])"
      ]
     },
     "execution_count": 17,
     "metadata": {},
     "output_type": "execute_result"
    }
   ],
   "source": [
    "n3 = odeint(dndt3, x0, t)\n",
    "n3"
   ]
  },
  {
   "cell_type": "code",
   "execution_count": 18,
   "id": "sharing-gentleman",
   "metadata": {},
   "outputs": [
    {
     "data": {
      "text/plain": [
       "<matplotlib.legend.Legend at 0x221cfe80>"
      ]
     },
     "execution_count": 18,
     "metadata": {},
     "output_type": "execute_result"
    },
    {
     "data": {
      "image/png": "[encoded data removed]",
      "text/plain": [
       "<Figure size 921.6x691.2 with 1 Axes>"
      ]
     },
     "metadata": {
      "needs_background": "light"
     },
     "output_type": "display_data"
    }
   ],
   "source": [
    "plt.figure(figsize=(12.8, 9.6))\n",
    "plt.grid(True)\n",
    "plt.title('Эффективность рекламы', fontsize=25)\n",
    "plt.xlabel(\"t\", fontsize=20)\n",
    "plt.ylabel(\"n\", fontsize=20)\n",
    "plt.plot(t, n3, 'r', label='N')\n",
    "plt.legend(loc='upper right', fontsize=15)"
   ]
  },
  {
   "cell_type": "code",
   "execution_count": null,
   "id": "weird-certificate",
   "metadata": {},
   "outputs": [],
   "source": []
  }
 ],
 "metadata": {
  "kernelspec": {
   "display_name": "Python 3",
   "language": "python",
   "name": "python3"
  },
  "language_info": {
   "codemirror_mode": {
    "name": "ipython",
    "version": 3
   },
   "file_extension": ".py",
   "mimetype": "text/x-python",
   "name": "python",
   "nbconvert_exporter": "python",
   "pygments_lexer": "ipython3",
   "version": "3.9.1"
  }
 },
 "nbformat": 4,
 "nbformat_minor": 5
}
