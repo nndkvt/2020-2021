{
 "cells": [
  {
   "cell_type": "code",
   "execution_count": 1,
   "id": "existing-cambridge",
   "metadata": {},
   "outputs": [],
   "source": [
    "import numpy as np\n",
    "import pandas as pd\n",
    "import scipy as sp\n",
    "import math\n",
    "import matplotlib.pyplot as plt\n",
    "\n",
    "from scipy.integrate import odeint"
   ]
  },
  {
   "cell_type": "code",
   "execution_count": 2,
   "id": "attended-organ",
   "metadata": {},
   "outputs": [],
   "source": [
    "x0 = 227000\n",
    "y0 = 139000\n",
    "t0 = 0"
   ]
  },
  {
   "cell_type": "code",
   "execution_count": 3,
   "id": "covered-bicycle",
   "metadata": {},
   "outputs": [],
   "source": [
    "a = 0.24\n",
    "b = 0.75\n",
    "c = 0.28\n",
    "h = 0.18"
   ]
  },
  {
   "cell_type": "code",
   "execution_count": 96,
   "id": "interpreted-hudson",
   "metadata": {},
   "outputs": [],
   "source": [
    "tmax = 5\n",
    "dt = 0.05"
   ]
  },
  {
   "cell_type": "code",
   "execution_count": 97,
   "id": "nervous-disco",
   "metadata": {},
   "outputs": [
    {
     "data": {
      "text/plain": [
       "array([0.  , 0.05, 0.1 , 0.15, 0.2 , 0.25, 0.3 , 0.35, 0.4 , 0.45, 0.5 ,\n",
       "       0.55, 0.6 , 0.65, 0.7 , 0.75, 0.8 , 0.85, 0.9 , 0.95, 1.  , 1.05,\n",
       "       1.1 , 1.15, 1.2 , 1.25, 1.3 , 1.35, 1.4 , 1.45, 1.5 , 1.55, 1.6 ,\n",
       "       1.65, 1.7 , 1.75, 1.8 , 1.85, 1.9 , 1.95, 2.  , 2.05, 2.1 , 2.15,\n",
       "       2.2 , 2.25, 2.3 , 2.35, 2.4 , 2.45, 2.5 , 2.55, 2.6 , 2.65, 2.7 ,\n",
       "       2.75, 2.8 , 2.85, 2.9 , 2.95, 3.  , 3.05, 3.1 , 3.15, 3.2 , 3.25,\n",
       "       3.3 , 3.35, 3.4 , 3.45, 3.5 , 3.55, 3.6 , 3.65, 3.7 , 3.75, 3.8 ,\n",
       "       3.85, 3.9 , 3.95, 4.  , 4.05, 4.1 , 4.15, 4.2 , 4.25, 4.3 , 4.35,\n",
       "       4.4 , 4.45, 4.5 , 4.55, 4.6 , 4.65, 4.7 , 4.75, 4.8 , 4.85, 4.9 ,\n",
       "       4.95, 5.  ])"
      ]
     },
     "execution_count": 97,
     "metadata": {},
     "output_type": "execute_result"
    }
   ],
   "source": [
    "t = np.arange(t0, tmax, dt)\n",
    "t = np.append(t, tmax)\n",
    "t"
   ]
  },
  {
   "cell_type": "code",
   "execution_count": 98,
   "id": "everyday-amount",
   "metadata": {},
   "outputs": [],
   "source": [
    "def P(t):\n",
    "    return (math.sin(8*t) + 1)\n",
    "\n",
    "def Q(t):\n",
    "    return (2 * abs(math.cos(t)))"
   ]
  },
  {
   "cell_type": "code",
   "execution_count": 99,
   "id": "cardiac-attribute",
   "metadata": {},
   "outputs": [],
   "source": [
    "def syst(f, t):\n",
    "    x = f[0]\n",
    "    y = f[1]\n",
    "    dxdt = -a*x - b*y + P(t)\n",
    "    dydt = -c*x*y - h*y + Q(t)\n",
    "    return (dxdt, dydt)"
   ]
  },
  {
   "cell_type": "code",
   "execution_count": 100,
   "id": "american-plain",
   "metadata": {},
   "outputs": [],
   "source": [
    "v0 = (x0, y0)"
   ]
  },
  {
   "cell_type": "code",
   "execution_count": 101,
   "id": "antique-douglas",
   "metadata": {},
   "outputs": [
    {
     "data": {
      "text/plain": [
       "array([[2.27000000e+05, 1.39000000e+05],\n",
       "       [2.24290716e+05, 3.18064381e-05],\n",
       "       [2.21615391e+05, 3.20696876e-05],\n",
       "       [2.18971990e+05, 3.22535293e-05],\n",
       "       [2.16360128e+05, 3.23555479e-05],\n",
       "       [2.13779421e+05, 3.23734920e-05],\n",
       "       [2.11229490e+05, 3.23052498e-05],\n",
       "       [2.08709961e+05, 3.21489130e-05],\n",
       "       [2.06220467e+05, 3.19027304e-05],\n",
       "       [2.03760649e+05, 3.15652610e-05],\n",
       "       [2.01330155e+05, 3.11352012e-05],\n",
       "       [1.98928639e+05, 3.06113675e-05],\n",
       "       [1.96555763e+05, 2.99929352e-05],\n",
       "       [1.94211190e+05, 2.92792047e-05],\n",
       "       [1.91894594e+05, 2.84698016e-05],\n",
       "       [1.89605645e+05, 2.75645891e-05],\n",
       "       [1.87344020e+05, 2.65636415e-05],\n",
       "       [1.85109391e+05, 2.54672790e-05],\n",
       "       [1.82901436e+05, 2.42761157e-05],\n",
       "       [1.80719829e+05, 2.29911176e-05],\n",
       "       [1.78564251e+05, 2.16134821e-05],\n",
       "       [1.76434382e+05, 2.01445016e-05],\n",
       "       [1.74329909e+05, 1.85858882e-05],\n",
       "       [1.72250523e+05, 1.69396804e-05],\n",
       "       [1.70195921e+05, 1.52082287e-05],\n",
       "       [1.68165808e+05, 1.33941007e-05],\n",
       "       [1.66159893e+05, 1.15000459e-05],\n",
       "       [1.64177894e+05, 9.52915682e-06],\n",
       "       [1.62219532e+05, 7.48484631e-06],\n",
       "       [1.60284534e+05, 5.37094666e-06],\n",
       "       [1.58372628e+05, 3.19138062e-06],\n",
       "       [1.56483545e+05, 9.50230947e-07],\n",
       "       [1.54617014e+05, 1.34784861e-06],\n",
       "       [1.52772767e+05, 3.69816462e-06],\n",
       "       [1.50950536e+05, 6.09564800e-06],\n",
       "       [1.49150051e+05, 8.53506246e-06],\n",
       "       [1.47371046e+05, 1.10108940e-05],\n",
       "       [1.45613256e+05, 1.35173915e-05],\n",
       "       [1.43876423e+05, 1.60486101e-05],\n",
       "       [1.42160290e+05, 1.85984278e-05],\n",
       "       [1.40464608e+05, 2.11604383e-05],\n",
       "       [1.38789133e+05, 2.37279762e-05],\n",
       "       [1.37133629e+05, 2.62943729e-05],\n",
       "       [1.35497863e+05, 2.88528242e-05],\n",
       "       [1.33881606e+05, 3.13962944e-05],\n",
       "       [1.32284633e+05, 3.39174576e-05],\n",
       "       [1.30706723e+05, 3.64090182e-05],\n",
       "       [1.29147653e+05, 3.88637631e-05],\n",
       "       [1.27607199e+05, 4.12743873e-05],\n",
       "       [1.26085140e+05, 4.36331485e-05],\n",
       "       [1.24581250e+05, 4.59319854e-05],\n",
       "       [1.23095308e+05, 4.81635880e-05],\n",
       "       [1.21627091e+05, 5.03211692e-05],\n",
       "       [1.20176380e+05, 5.23966172e-05],\n",
       "       [1.18742961e+05, 5.43820809e-05],\n",
       "       [1.17326621e+05, 5.62701560e-05],\n",
       "       [1.15927156e+05, 5.80536241e-05],\n",
       "       [1.14544366e+05, 5.97252229e-05],\n",
       "       [1.13178056e+05, 6.12775317e-05],\n",
       "       [1.11828038e+05, 6.27035463e-05],\n",
       "       [1.10494122e+05, 6.39965123e-05],\n",
       "       [1.09176125e+05, 6.51497986e-05],\n",
       "       [1.07873864e+05, 6.61566891e-05],\n",
       "       [1.06587156e+05, 6.70109112e-05],\n",
       "       [1.05315816e+05, 6.77065843e-05],\n",
       "       [1.04059659e+05, 6.82382268e-05],\n",
       "       [1.02818499e+05, 6.86002995e-05],\n",
       "       [1.01592150e+05, 6.87873493e-05],\n",
       "       [1.00380427e+05, 6.87947392e-05],\n",
       "       [9.91831485e+04, 6.86183831e-05],\n",
       "       [9.80001362e+04, 6.82547252e-05],\n",
       "       [9.68312163e+04, 6.76996606e-05],\n",
       "       [9.56762199e+04, 6.69492796e-05],\n",
       "       [9.45349834e+04, 6.60010460e-05],\n",
       "       [9.34073479e+04, 6.48537204e-05],\n",
       "       [9.22931582e+04, 6.35066934e-05],\n",
       "       [9.11922617e+04, 6.19571119e-05],\n",
       "       [9.01045073e+04, 6.02017553e-05],\n",
       "       [8.90297440e+04, 5.82418368e-05],\n",
       "       [8.79678201e+04, 5.60816053e-05],\n",
       "       [8.69185827e+04, 5.37171871e-05],\n",
       "       [8.58818774e+04, 5.11516504e-05],\n",
       "       [8.48575494e+04, 4.83873553e-05],\n",
       "       [8.38454437e+04, 4.54269934e-05],\n",
       "       [8.28454068e+04, 4.22726429e-05],\n",
       "       [8.18572875e+04, 3.89281797e-05],\n",
       "       [8.08809381e+04, 3.53987270e-05],\n",
       "       [7.99162156e+04, 3.16890287e-05],\n",
       "       [7.89629816e+04, 2.78041054e-05],\n",
       "       [7.80211021e+04, 2.37502832e-05],\n",
       "       [7.70904470e+04, 1.95349684e-05],\n",
       "       [7.61708897e+04, 1.51654962e-05],\n",
       "       [7.52623066e+04, 1.06489809e-05],\n",
       "       [7.43645738e+04, 5.99273780e-06],\n",
       "       [7.34775669e+04, 1.20759655e-06],\n",
       "       [7.26011607e+04, 3.69457580e-06],\n",
       "       [7.17352262e+04, 8.70739532e-06],\n",
       "       [7.08796364e+04, 1.38186280e-05],\n",
       "       [7.00342611e+04, 1.90170464e-05],\n",
       "       [6.91989710e+04, 2.42908326e-05],\n",
       "       [6.83736388e+04, 2.96277105e-05]])"
      ]
     },
     "execution_count": 101,
     "metadata": {},
     "output_type": "execute_result"
    }
   ],
   "source": [
    "yf = odeint(syst, v0, t)\n",
    "yf"
   ]
  },
  {
   "cell_type": "code",
   "execution_count": 102,
   "id": "distributed-breakdown",
   "metadata": {},
   "outputs": [],
   "source": [
    "x = []\n",
    "y = []\n",
    "for i in range(len(yf)):\n",
    "    x.append(yf[i][0])\n",
    "    y.append(yf[i][1])"
   ]
  },
  {
   "cell_type": "code",
   "execution_count": 103,
   "id": "weighted-annotation",
   "metadata": {},
   "outputs": [
    {
     "data": {
      "text/plain": [
       "<matplotlib.legend.Legend at 0x1273bc8>"
      ]
     },
     "execution_count": 103,
     "metadata": {},
     "output_type": "execute_result"
    },
    {
     "data": {
      "image/png": "[encoded data removed]",
      "text/plain": [
       "<Figure size 921.6x691.2 with 1 Axes>"
      ]
     },
     "metadata": {
      "needs_background": "light"
     },
     "output_type": "display_data"
    }
   ],
   "source": [
    "zero = []\n",
    "for i in range(len(t)):\n",
    "    zero = np.append(zero, 0)\n",
    "\n",
    "plt.figure(figsize=(12.8, 9.6))\n",
    "plt.plot(t, zero, 'g')\n",
    "plt.plot(t, x, 'b', label='X')\n",
    "plt.plot(t, y, 'r', label='Y')\n",
    "plt.ylabel(\"Численность армии\", fontsize=20)\n",
    "plt.xlabel(\"Время\", fontsize=20)\n",
    "plt.title(\"Модель боевых действий\", fontsize=25)\n",
    "plt.legend(loc='upper right', fontsize=15)"
   ]
  },
  {
   "cell_type": "markdown",
   "id": "hundred-action",
   "metadata": {},
   "source": [
    "## Краткое пояснение\n",
    "\n",
    "Значение Y - количество людей в армии страны Y. Значения Y на t = 0.05 уже равно примерно $3.18 * 10^{-5}$, что округляется до 0 в целых числах (количество человек не исчисляется в действительных числах). Значит, Y уже равно 0 на t = 0.05. \n",
    "\n",
    "Если честно, не знаю почему так произошло."
   ]
  },
  {
   "cell_type": "code",
   "execution_count": null,
   "id": "daily-capital",
   "metadata": {},
   "outputs": [],
   "source": []
  }
 ],
 "metadata": {
  "kernelspec": {
   "display_name": "Python 3",
   "language": "python",
   "name": "python3"
  },
  "language_info": {
   "codemirror_mode": {
    "name": "ipython",
    "version": 3
   },
   "file_extension": ".py",
   "mimetype": "text/x-python",
   "name": "python",
   "nbconvert_exporter": "python",
   "pygments_lexer": "ipython3",
   "version": "3.9.1"
  }
 },
 "nbformat": 4,
 "nbformat_minor": 5
}
